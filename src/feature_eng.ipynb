{
 "cells": [
  {
   "cell_type": "code",
   "execution_count": 8,
   "metadata": {},
   "outputs": [],
   "source": [
    "import torch\n",
    "import torch.nn.functional as F\n",
    "import matplotlib.pyplot as plt\n",
    "import pandas as pd\n",
    "import numpy as np\n",
    "%matplotlib inline"
   ]
  },
  {
   "cell_type": "code",
   "execution_count": 6,
   "metadata": {},
   "outputs": [
    {
     "data": {
      "text/html": [
       "<div>\n",
       "<style scoped>\n",
       "    .dataframe tbody tr th:only-of-type {\n",
       "        vertical-align: middle;\n",
       "    }\n",
       "\n",
       "    .dataframe tbody tr th {\n",
       "        vertical-align: top;\n",
       "    }\n",
       "\n",
       "    .dataframe thead th {\n",
       "        text-align: right;\n",
       "    }\n",
       "</style>\n",
       "<table border=\"1\" class=\"dataframe\">\n",
       "  <thead>\n",
       "    <tr style=\"text-align: right;\">\n",
       "      <th></th>\n",
       "      <th>PassengerId</th>\n",
       "      <th>HomePlanet</th>\n",
       "      <th>CryoSleep</th>\n",
       "      <th>Cabin</th>\n",
       "      <th>Destination</th>\n",
       "      <th>Age</th>\n",
       "      <th>VIP</th>\n",
       "      <th>RoomService</th>\n",
       "      <th>FoodCourt</th>\n",
       "      <th>ShoppingMall</th>\n",
       "      <th>Spa</th>\n",
       "      <th>VRDeck</th>\n",
       "      <th>Name</th>\n",
       "      <th>Transported</th>\n",
       "    </tr>\n",
       "  </thead>\n",
       "  <tbody>\n",
       "    <tr>\n",
       "      <th>0</th>\n",
       "      <td>0001_01</td>\n",
       "      <td>Europa</td>\n",
       "      <td>False</td>\n",
       "      <td>B/0/P</td>\n",
       "      <td>TRAPPIST-1e</td>\n",
       "      <td>39.0</td>\n",
       "      <td>False</td>\n",
       "      <td>0.0</td>\n",
       "      <td>0.0</td>\n",
       "      <td>0.0</td>\n",
       "      <td>0.0</td>\n",
       "      <td>0.0</td>\n",
       "      <td>Maham Ofracculy</td>\n",
       "      <td>False</td>\n",
       "    </tr>\n",
       "    <tr>\n",
       "      <th>1</th>\n",
       "      <td>0002_01</td>\n",
       "      <td>Earth</td>\n",
       "      <td>False</td>\n",
       "      <td>F/0/S</td>\n",
       "      <td>TRAPPIST-1e</td>\n",
       "      <td>24.0</td>\n",
       "      <td>False</td>\n",
       "      <td>109.0</td>\n",
       "      <td>9.0</td>\n",
       "      <td>25.0</td>\n",
       "      <td>549.0</td>\n",
       "      <td>44.0</td>\n",
       "      <td>Juanna Vines</td>\n",
       "      <td>True</td>\n",
       "    </tr>\n",
       "    <tr>\n",
       "      <th>2</th>\n",
       "      <td>0003_01</td>\n",
       "      <td>Europa</td>\n",
       "      <td>False</td>\n",
       "      <td>A/0/S</td>\n",
       "      <td>TRAPPIST-1e</td>\n",
       "      <td>58.0</td>\n",
       "      <td>True</td>\n",
       "      <td>43.0</td>\n",
       "      <td>3576.0</td>\n",
       "      <td>0.0</td>\n",
       "      <td>6715.0</td>\n",
       "      <td>49.0</td>\n",
       "      <td>Altark Susent</td>\n",
       "      <td>False</td>\n",
       "    </tr>\n",
       "    <tr>\n",
       "      <th>3</th>\n",
       "      <td>0003_02</td>\n",
       "      <td>Europa</td>\n",
       "      <td>False</td>\n",
       "      <td>A/0/S</td>\n",
       "      <td>TRAPPIST-1e</td>\n",
       "      <td>33.0</td>\n",
       "      <td>False</td>\n",
       "      <td>0.0</td>\n",
       "      <td>1283.0</td>\n",
       "      <td>371.0</td>\n",
       "      <td>3329.0</td>\n",
       "      <td>193.0</td>\n",
       "      <td>Solam Susent</td>\n",
       "      <td>False</td>\n",
       "    </tr>\n",
       "    <tr>\n",
       "      <th>4</th>\n",
       "      <td>0004_01</td>\n",
       "      <td>Earth</td>\n",
       "      <td>False</td>\n",
       "      <td>F/1/S</td>\n",
       "      <td>TRAPPIST-1e</td>\n",
       "      <td>16.0</td>\n",
       "      <td>False</td>\n",
       "      <td>303.0</td>\n",
       "      <td>70.0</td>\n",
       "      <td>151.0</td>\n",
       "      <td>565.0</td>\n",
       "      <td>2.0</td>\n",
       "      <td>Willy Santantines</td>\n",
       "      <td>True</td>\n",
       "    </tr>\n",
       "  </tbody>\n",
       "</table>\n",
       "</div>"
      ],
      "text/plain": [
       "  PassengerId HomePlanet CryoSleep  Cabin  Destination   Age    VIP  \\\n",
       "0     0001_01     Europa     False  B/0/P  TRAPPIST-1e  39.0  False   \n",
       "1     0002_01      Earth     False  F/0/S  TRAPPIST-1e  24.0  False   \n",
       "2     0003_01     Europa     False  A/0/S  TRAPPIST-1e  58.0   True   \n",
       "3     0003_02     Europa     False  A/0/S  TRAPPIST-1e  33.0  False   \n",
       "4     0004_01      Earth     False  F/1/S  TRAPPIST-1e  16.0  False   \n",
       "\n",
       "   RoomService  FoodCourt  ShoppingMall     Spa  VRDeck               Name  \\\n",
       "0          0.0        0.0           0.0     0.0     0.0    Maham Ofracculy   \n",
       "1        109.0        9.0          25.0   549.0    44.0       Juanna Vines   \n",
       "2         43.0     3576.0           0.0  6715.0    49.0      Altark Susent   \n",
       "3          0.0     1283.0         371.0  3329.0   193.0       Solam Susent   \n",
       "4        303.0       70.0         151.0   565.0     2.0  Willy Santantines   \n",
       "\n",
       "   Transported  \n",
       "0        False  \n",
       "1         True  \n",
       "2        False  \n",
       "3        False  \n",
       "4         True  "
      ]
     },
     "execution_count": 6,
     "metadata": {},
     "output_type": "execute_result"
    }
   ],
   "source": [
    "data = pd.read_csv('../dataset/train.csv')\n",
    "data[:5]"
   ]
  },
  {
   "cell_type": "code",
   "execution_count": 39,
   "metadata": {},
   "outputs": [],
   "source": [
    "## Utility Methods\n",
    "def squash_down_feature(feature):\n",
    "    feature_mean = feature.mean()\n",
    "    feature_std = feature.std()\n",
    "\n",
    "    return [ (c_feature - feature_mean) / feature_std for c_feature in feature ]\n",
    "\n",
    "def get_frequency_map(feature):\n",
    "    freq_map = {}\n",
    "    for unique_feature in set(feature):\n",
    "        freq_map[unique_feature] = 0\n",
    "    \n",
    "    for current_feature in feature:\n",
    "        freq_map[current_feature] += 1\n",
    "    \n",
    "    return freq_map\n",
    "\n",
    "def get_frequency_target_map(feature, target):\n",
    "    freq_map = {}\n",
    "    for unique_feature in set(feature):\n",
    "        freq_map[unique_feature] = 0\n",
    "    \n",
    "    for (current_feature, current_target) in zip(feature, target):\n",
    "        if current_target == 1:\n",
    "            # Counting a feature if it led to a Rainfall.\n",
    "            freq_map[current_feature] += 1\n",
    "    \n",
    "    return freq_map\n",
    "\n",
    "def visualize_feature(feature, against_target = False, target = []):\n",
    "    freq_map = get_frequency_target_map(feature, target) if against_target else get_frequency_map(feature)\n",
    "    x_points = np.array(list(freq_map.keys()))\n",
    "    y_points = np.array(list(freq_map.values()))\n",
    "\n",
    "    plt.scatter(x_points, y_points)\n",
    "    plt.show()\n",
    "\n",
    "def one_hot_encode(feature, label):\n",
    "    return [1.0 if value == label else 0.0 for value in feature]"
   ]
  },
  {
   "cell_type": "code",
   "execution_count": 126,
   "metadata": {},
   "outputs": [],
   "source": [
    "def format_training_data(training_data):\n",
    "    return {\n",
    "        'home_planet_earth': one_hot_encode(training_data['HomePlanet'], 'Earth'),\n",
    "        'home_planet_mars': one_hot_encode(training_data['HomePlanet'], 'Mars'),\n",
    "        'home_planet_europa': one_hot_encode(training_data['HomePlanet'], 'Europa'),\n",
    "        'in_cryo_sleep': [ 1.0 if cryo_sleep else 0.0 for cryo_sleep in training_data['CryoSleep']],\n",
    "        'not_in_cryo_sleep': [ 0.0 if cryo_sleep else 1.0 for cryo_sleep in training_data['CryoSleep']],\n",
    "        'deck_a': [\n",
    "            1.0 if mod_cabin == 'A' else 0.0 for mod_cabin in \n",
    "                [0.0 if cabin is np.nan else cabin.split('/')[0] for cabin in training_data['Cabin']]\n",
    "        ],\n",
    "        'deck_b': [\n",
    "            1.0 if mod_cabin == 'B' else 0.0 for mod_cabin in \n",
    "                [0.0 if cabin is np.nan else cabin.split('/')[0] for cabin in training_data['Cabin']]\n",
    "        ],\n",
    "        'deck_c': [\n",
    "            1.0 if mod_cabin == 'C' else 0.0 for mod_cabin in \n",
    "                [0.0 if cabin is np.nan else cabin.split('/')[0] for cabin in training_data['Cabin']]\n",
    "        ],\n",
    "        'deck_d': [\n",
    "            1.0 if mod_cabin == 'D' else 0.0 for mod_cabin in \n",
    "                [0.0 if cabin is np.nan else cabin.split('/')[0] for cabin in training_data['Cabin']]\n",
    "        ],\n",
    "        'deck_e': [\n",
    "            1.0 if mod_cabin == 'E' else 0.0 for mod_cabin in \n",
    "                [0.0 if cabin is np.nan else cabin.split('/')[0] for cabin in training_data['Cabin']]\n",
    "        ],\n",
    "        'deck_f': [\n",
    "            1.0 if mod_cabin == 'F' else 0.0 for mod_cabin in \n",
    "                ['F' if cabin is np.nan else cabin.split('/')[0] for cabin in training_data['Cabin']]\n",
    "        ],\n",
    "        'deck_g': [\n",
    "            1.0 if mod_cabin == 'G' else 0.0 for mod_cabin in \n",
    "                [0.0 if cabin is np.nan else cabin.split('/')[0] for cabin in training_data['Cabin']]\n",
    "        ],\n",
    "        'deck_t': [\n",
    "            1.0 if mod_cabin == 'T' else 0.0 for mod_cabin in \n",
    "                [0.0 if cabin is np.nan else cabin.split('/')[0] for cabin in training_data['Cabin']]\n",
    "        ],\n",
    "        'port': [\n",
    "            1.0 if mod_cabin == 'P' else 0.0 for mod_cabin in \n",
    "                [0.0 if cabin is np.nan else cabin.split('/')[2] for cabin in training_data['Cabin']]\n",
    "        ],\n",
    "        'starboard': [\n",
    "            1.0 if mod_cabin == 'S' else 0.0 for mod_cabin in \n",
    "                ['S' if cabin is np.nan else cabin.split('/')[2] for cabin in training_data['Cabin']]\n",
    "        ],\n",
    "        'destination_1': [\n",
    "            1.0 if destination == 'TRAPPIST-1e' else 0.0 for destination in \n",
    "                ['TRAPPIST-1e' if destination is np.nan else destination for destination in training_data['Destination']]\n",
    "        ],\n",
    "        'destination_2': [\n",
    "            1.0 if destination == '55 Cancri e' else 0.0 for destination in \n",
    "                ['Invalid' if destination is np.nan else destination for destination in training_data['Destination']]\n",
    "        ],\n",
    "        'destination_3': [\n",
    "            1.0 if destination == 'PSO J318.5-22' else 0.0 for destination in \n",
    "                ['Invalid' if destination is np.nan else destination for destination in training_data['Destination']]\n",
    "        ],\n",
    "        'age': squash_down_feature(training_data['Age'].replace(np.nan, 0.0)),\n",
    "        'is_vip': [\n",
    "            1.0 if vip else 0.0 for vip in \n",
    "                [False if vip is np.nan else vip for vip in training_data['VIP']]\n",
    "        ],\n",
    "        'not_vip': [\n",
    "            1.0 if not vip else 0.0 for vip in \n",
    "                [False if vip is np.nan else vip for vip in training_data['VIP']]\n",
    "        ],\n",
    "        'room_service_bill': squash_down_feature(data['RoomService'].replace(np.nan, 0.0))\n",
    "    }"
   ]
  },
  {
   "cell_type": "code",
   "execution_count": 127,
   "metadata": {},
   "outputs": [
    {
     "data": {
      "text/plain": [
       "dict_keys(['home_planet_earth', 'home_planet_mars', 'home_planet_europa', 'in_cryo_sleep', 'not_in_cryo_sleep', 'deck_a', 'deck_b', 'deck_c', 'deck_d', 'deck_e', 'deck_f', 'deck_g', 'deck_t', 'port', 'starboard', 'destination_1', 'destination_2', 'destination_3', 'age', 'is_vip', 'not_vip', 'room_service_bill'])"
      ]
     },
     "execution_count": 127,
     "metadata": {},
     "output_type": "execute_result"
    }
   ],
   "source": [
    "formatted_training_data = format_training_data(data)\n",
    "formatted_training_data.keys()"
   ]
  },
  {
   "cell_type": "code",
   "execution_count": 128,
   "metadata": {},
   "outputs": [
    {
     "data": {
      "text/html": [
       "<div>\n",
       "<style scoped>\n",
       "    .dataframe tbody tr th:only-of-type {\n",
       "        vertical-align: middle;\n",
       "    }\n",
       "\n",
       "    .dataframe tbody tr th {\n",
       "        vertical-align: top;\n",
       "    }\n",
       "\n",
       "    .dataframe thead th {\n",
       "        text-align: right;\n",
       "    }\n",
       "</style>\n",
       "<table border=\"1\" class=\"dataframe\">\n",
       "  <thead>\n",
       "    <tr style=\"text-align: right;\">\n",
       "      <th></th>\n",
       "      <th>Home Planet Earth</th>\n",
       "      <th>Home Planet Mars</th>\n",
       "      <th>Home Planet Europa</th>\n",
       "      <th>In Cryo Sleep</th>\n",
       "      <th>Not In Cryo Sleep</th>\n",
       "      <th>Deck A</th>\n",
       "      <th>Deck B</th>\n",
       "      <th>Deck C</th>\n",
       "      <th>Deck D</th>\n",
       "      <th>Deck E</th>\n",
       "      <th>...</th>\n",
       "      <th>Port</th>\n",
       "      <th>StarBoard</th>\n",
       "      <th>Destination 1</th>\n",
       "      <th>Destination 2</th>\n",
       "      <th>Destination 3</th>\n",
       "      <th>Age</th>\n",
       "      <th>Is VIP</th>\n",
       "      <th>Not VIP</th>\n",
       "      <th>Room Service Bill</th>\n",
       "      <th>Transported</th>\n",
       "    </tr>\n",
       "  </thead>\n",
       "  <tbody>\n",
       "    <tr>\n",
       "      <th>0</th>\n",
       "      <td>0.0</td>\n",
       "      <td>0.0</td>\n",
       "      <td>1.0</td>\n",
       "      <td>0.0</td>\n",
       "      <td>1.0</td>\n",
       "      <td>0.0</td>\n",
       "      <td>1.0</td>\n",
       "      <td>0.0</td>\n",
       "      <td>0.0</td>\n",
       "      <td>0.0</td>\n",
       "      <td>...</td>\n",
       "      <td>1.0</td>\n",
       "      <td>0.0</td>\n",
       "      <td>1.0</td>\n",
       "      <td>0.0</td>\n",
       "      <td>0.0</td>\n",
       "      <td>0.721943</td>\n",
       "      <td>0.0</td>\n",
       "      <td>1.0</td>\n",
       "      <td>-0.333085</td>\n",
       "      <td>0.0</td>\n",
       "    </tr>\n",
       "    <tr>\n",
       "      <th>1</th>\n",
       "      <td>1.0</td>\n",
       "      <td>0.0</td>\n",
       "      <td>0.0</td>\n",
       "      <td>0.0</td>\n",
       "      <td>1.0</td>\n",
       "      <td>0.0</td>\n",
       "      <td>0.0</td>\n",
       "      <td>0.0</td>\n",
       "      <td>0.0</td>\n",
       "      <td>0.0</td>\n",
       "      <td>...</td>\n",
       "      <td>0.0</td>\n",
       "      <td>1.0</td>\n",
       "      <td>1.0</td>\n",
       "      <td>0.0</td>\n",
       "      <td>0.0</td>\n",
       "      <td>-0.283953</td>\n",
       "      <td>0.0</td>\n",
       "      <td>1.0</td>\n",
       "      <td>-0.168064</td>\n",
       "      <td>1.0</td>\n",
       "    </tr>\n",
       "    <tr>\n",
       "      <th>2</th>\n",
       "      <td>0.0</td>\n",
       "      <td>0.0</td>\n",
       "      <td>1.0</td>\n",
       "      <td>0.0</td>\n",
       "      <td>1.0</td>\n",
       "      <td>1.0</td>\n",
       "      <td>0.0</td>\n",
       "      <td>0.0</td>\n",
       "      <td>0.0</td>\n",
       "      <td>0.0</td>\n",
       "      <td>...</td>\n",
       "      <td>0.0</td>\n",
       "      <td>1.0</td>\n",
       "      <td>1.0</td>\n",
       "      <td>0.0</td>\n",
       "      <td>0.0</td>\n",
       "      <td>1.996077</td>\n",
       "      <td>1.0</td>\n",
       "      <td>0.0</td>\n",
       "      <td>-0.267985</td>\n",
       "      <td>0.0</td>\n",
       "    </tr>\n",
       "    <tr>\n",
       "      <th>3</th>\n",
       "      <td>0.0</td>\n",
       "      <td>0.0</td>\n",
       "      <td>1.0</td>\n",
       "      <td>0.0</td>\n",
       "      <td>1.0</td>\n",
       "      <td>1.0</td>\n",
       "      <td>0.0</td>\n",
       "      <td>0.0</td>\n",
       "      <td>0.0</td>\n",
       "      <td>0.0</td>\n",
       "      <td>...</td>\n",
       "      <td>0.0</td>\n",
       "      <td>1.0</td>\n",
       "      <td>1.0</td>\n",
       "      <td>0.0</td>\n",
       "      <td>0.0</td>\n",
       "      <td>0.319585</td>\n",
       "      <td>0.0</td>\n",
       "      <td>1.0</td>\n",
       "      <td>-0.333085</td>\n",
       "      <td>0.0</td>\n",
       "    </tr>\n",
       "    <tr>\n",
       "      <th>4</th>\n",
       "      <td>1.0</td>\n",
       "      <td>0.0</td>\n",
       "      <td>0.0</td>\n",
       "      <td>0.0</td>\n",
       "      <td>1.0</td>\n",
       "      <td>0.0</td>\n",
       "      <td>0.0</td>\n",
       "      <td>0.0</td>\n",
       "      <td>0.0</td>\n",
       "      <td>0.0</td>\n",
       "      <td>...</td>\n",
       "      <td>0.0</td>\n",
       "      <td>1.0</td>\n",
       "      <td>1.0</td>\n",
       "      <td>0.0</td>\n",
       "      <td>0.0</td>\n",
       "      <td>-0.820430</td>\n",
       "      <td>0.0</td>\n",
       "      <td>1.0</td>\n",
       "      <td>0.125645</td>\n",
       "      <td>1.0</td>\n",
       "    </tr>\n",
       "  </tbody>\n",
       "</table>\n",
       "<p>5 rows × 23 columns</p>\n",
       "</div>"
      ],
      "text/plain": [
       "   Home Planet Earth  Home Planet Mars  Home Planet Europa  In Cryo Sleep  \\\n",
       "0                0.0               0.0                 1.0            0.0   \n",
       "1                1.0               0.0                 0.0            0.0   \n",
       "2                0.0               0.0                 1.0            0.0   \n",
       "3                0.0               0.0                 1.0            0.0   \n",
       "4                1.0               0.0                 0.0            0.0   \n",
       "\n",
       "   Not In Cryo Sleep  Deck A  Deck B  Deck C  Deck D  Deck E  ...  Port  \\\n",
       "0                1.0     0.0     1.0     0.0     0.0     0.0  ...   1.0   \n",
       "1                1.0     0.0     0.0     0.0     0.0     0.0  ...   0.0   \n",
       "2                1.0     1.0     0.0     0.0     0.0     0.0  ...   0.0   \n",
       "3                1.0     1.0     0.0     0.0     0.0     0.0  ...   0.0   \n",
       "4                1.0     0.0     0.0     0.0     0.0     0.0  ...   0.0   \n",
       "\n",
       "   StarBoard  Destination 1  Destination 2  Destination 3       Age  Is VIP  \\\n",
       "0        0.0            1.0            0.0            0.0  0.721943     0.0   \n",
       "1        1.0            1.0            0.0            0.0 -0.283953     0.0   \n",
       "2        1.0            1.0            0.0            0.0  1.996077     1.0   \n",
       "3        1.0            1.0            0.0            0.0  0.319585     0.0   \n",
       "4        1.0            1.0            0.0            0.0 -0.820430     0.0   \n",
       "\n",
       "   Not VIP  Room Service Bill  Transported  \n",
       "0      1.0          -0.333085          0.0  \n",
       "1      1.0          -0.168064          1.0  \n",
       "2      0.0          -0.267985          0.0  \n",
       "3      1.0          -0.333085          0.0  \n",
       "4      1.0           0.125645          1.0  \n",
       "\n",
       "[5 rows x 23 columns]"
      ]
     },
     "execution_count": 128,
     "metadata": {},
     "output_type": "execute_result"
    }
   ],
   "source": [
    "def build_dataset(st, en, feature_data, target_data):\n",
    "    X = []\n",
    "\n",
    "    for i in range(st, en):\n",
    "        X.append([\n",
    "            feature_data['home_planet_earth'][i],\n",
    "            feature_data['home_planet_mars'][i],\n",
    "            feature_data['home_planet_europa'][i],\n",
    "            feature_data['in_cryo_sleep'][i],\n",
    "            feature_data['not_in_cryo_sleep'][i],\n",
    "            feature_data['deck_a'][i],\n",
    "            feature_data['deck_b'][i],\n",
    "            feature_data['deck_c'][i],\n",
    "            feature_data['deck_d'][i],\n",
    "            feature_data['deck_e'][i],\n",
    "            feature_data['deck_f'][i],\n",
    "            feature_data['deck_g'][i],\n",
    "            feature_data['deck_t'][i],\n",
    "            feature_data['port'][i],\n",
    "            feature_data['starboard'][i],\n",
    "            feature_data['destination_1'][i],\n",
    "            feature_data['destination_2'][i],\n",
    "            feature_data['destination_3'][i],\n",
    "            feature_data['age'][i],\n",
    "            feature_data['is_vip'][i],\n",
    "            feature_data['not_vip'][i],\n",
    "            feature_data['room_service_bill'][i],\n",
    "\n",
    "            target_data[i]\n",
    "        ])\n",
    "    \n",
    "    return X\n",
    "\n",
    "target_data = [ 1.0 if transported else 0.0 for transported in data['Transported']]\n",
    "cleaned_training_dataset = build_dataset(0, len(data), formatted_training_data, target_data)\n",
    "cleaned_training_dataset = pd.DataFrame(\n",
    "    cleaned_training_dataset, \n",
    "    columns=[\n",
    "        'Home Planet Earth', \n",
    "        'Home Planet Mars', \n",
    "        'Home Planet Europa',\n",
    "        'In Cryo Sleep',\n",
    "        'Not In Cryo Sleep',\n",
    "        'Deck A',\n",
    "        'Deck B',\n",
    "        'Deck C',\n",
    "        'Deck D',\n",
    "        'Deck E',\n",
    "        'Deck F',\n",
    "        'Deck G',\n",
    "        'Deck T',\n",
    "        'Port',\n",
    "        'StarBoard',\n",
    "        'Destination 1',\n",
    "        'Destination 2',\n",
    "        'Destination 3',\n",
    "        'Age',\n",
    "        'Is VIP',\n",
    "        'Not VIP',\n",
    "        'Room Service Bill',\n",
    "        'Transported'])\n",
    "\n",
    "cleaned_training_dataset.head()"
   ]
  },
  {
   "cell_type": "code",
   "execution_count": 33,
   "metadata": {},
   "outputs": [
    {
     "name": "stdout",
     "output_type": "stream",
     "text": [
      "{'Earth': 4602, 'Mars': 1759, 'Europa': 2131, nan: 201}\n"
     ]
    },
    {
     "data": {
      "image/png": "[encoded data removed]",
      "text/plain": [
       "<Figure size 640x480 with 1 Axes>"
      ]
     },
     "metadata": {},
     "output_type": "display_data"
    }
   ],
   "source": [
    "## Home Planet feature\n",
    "def home_planet_feature():\n",
    "    f_map = get_frequency_map(data['HomePlanet'])\n",
    "    print(f_map)\n",
    "    mod_keys = ['Invalid' if dkey is np.nan else dkey for dkey in f_map.keys()]\n",
    "    plt.bar(mod_keys, [int(val) for val in f_map.values()])\n",
    "\n",
    "home_planet_feature()"
   ]
  },
  {
   "cell_type": "code",
   "execution_count": null,
   "metadata": {},
   "outputs": [
    {
     "name": "stdout",
     "output_type": "stream",
     "text": [
      "{'Earth': 4803, 'Mars': 1759, 'Europa': 2131}\n"
     ]
    },
    {
     "data": {
      "image/png": "[encoded data removed]",
      "text/plain": [
       "<Figure size 640x480 with 1 Axes>"
      ]
     },
     "metadata": {},
     "output_type": "display_data"
    }
   ],
   "source": [
    "# Since Earth holds majority of the Home Planet, let's replace all the Invalids with Earth\n",
    "def replace_nan_with_earth():\n",
    "    data['HomePlanet'] = data['HomePlanet'].replace(np.nan, 'Earth')\n",
    "    f_map = get_frequency_map(data['HomePlanet'])\n",
    "    print(f_map)\n",
    "    plt.bar(f_map.keys(), [int(val) for val in f_map.values()])\n",
    "\n",
    "replace_nan_with_earth()"
   ]
  },
  {
   "cell_type": "code",
   "execution_count": 53,
   "metadata": {},
   "outputs": [
    {
     "name": "stdout",
     "output_type": "stream",
     "text": [
      "{False: 5439, True: 3037, nan: 217}\n"
     ]
    },
    {
     "data": {
      "image/png": "[encoded data removed]",
      "text/plain": [
       "<Figure size 640x480 with 1 Axes>"
      ]
     },
     "metadata": {},
     "output_type": "display_data"
    }
   ],
   "source": [
    "def cryo_sleep_feature():\n",
    "    f_map = get_frequency_map(data['CryoSleep'])\n",
    "    print(f_map)\n",
    "    mod_keys = ['Invalid' if dkey is np.nan else str(dkey) for dkey in f_map.keys()]\n",
    "    plt.bar(mod_keys, [int(val) for val in f_map.values()])\n",
    "\n",
    "cryo_sleep_feature()"
   ]
  },
  {
   "cell_type": "code",
   "execution_count": 56,
   "metadata": {},
   "outputs": [
    {
     "name": "stdout",
     "output_type": "stream",
     "text": [
      "{False: 5656, True: 3037}\n"
     ]
    },
    {
     "name": "stderr",
     "output_type": "stream",
     "text": [
      "/var/folders/9h/5k4_qsm526q29x2g1rhnfmxr0000gn/T/ipykernel_15727/1347291414.py:3: FutureWarning: Downcasting behavior in `replace` is deprecated and will be removed in a future version. To retain the old behavior, explicitly call `result.infer_objects(copy=False)`. To opt-in to the future behavior, set `pd.set_option('future.no_silent_downcasting', True)`\n",
      "  data['CryoSleep'] = data['CryoSleep'].replace(np.nan, False)\n"
     ]
    },
    {
     "data": {
      "image/png": "[encoded data removed]",
      "text/plain": [
       "<Figure size 640x480 with 1 Axes>"
      ]
     },
     "metadata": {},
     "output_type": "display_data"
    }
   ],
   "source": [
    "# Since most of the people are not in Cryo Sleep, let's replace all the Invalids with False\n",
    "def replace_nan_with_false():\n",
    "    data['CryoSleep'] = data['CryoSleep'].replace(np.nan, False)\n",
    "    f_map = get_frequency_map(data['CryoSleep'])\n",
    "    print(f_map)\n",
    "    plt.bar([str(key) for key in f_map.keys()], [int(val) for val in f_map.values()])\n",
    "\n",
    "replace_nan_with_false()"
   ]
  },
  {
   "cell_type": "code",
   "execution_count": 87,
   "metadata": {},
   "outputs": [
    {
     "data": {
      "text/plain": [
       "{'Invalid': 199, 'P': 4206, 'S': 4288}"
      ]
     },
     "execution_count": 87,
     "metadata": {},
     "output_type": "execute_result"
    }
   ],
   "source": [
    "# Cabin - The cabin number where the passenger is staying. \n",
    "# Takes the form deck/num/side, where side can be either P for Port or S for Starboard.\n",
    "get_frequency_map(['Invalid' if cabin is np.nan else cabin.split('/')[2] for cabin in data['Cabin']])"
   ]
  },
  {
   "cell_type": "code",
   "execution_count": 93,
   "metadata": {},
   "outputs": [
    {
     "data": {
      "text/plain": [
       "{'55 Cancri e': 1800, 'TRAPPIST-1e': 5915, nan: 182, 'PSO J318.5-22': 796}"
      ]
     },
     "execution_count": 93,
     "metadata": {},
     "output_type": "execute_result"
    }
   ],
   "source": [
    "get_frequency_map(data['Destination'])"
   ]
  },
  {
   "cell_type": "code",
   "execution_count": 114,
   "metadata": {},
   "outputs": [
    {
     "data": {
      "image/png": "[encoded data removed]",
      "text/plain": [
       "<Figure size 640x480 with 1 Axes>"
      ]
     },
     "metadata": {},
     "output_type": "display_data"
    }
   ],
   "source": [
    "visualize_feature(squash_down_feature(data['Age'].replace(np.nan, 0.0)))"
   ]
  },
  {
   "cell_type": "code",
   "execution_count": 116,
   "metadata": {},
   "outputs": [
    {
     "data": {
      "text/plain": [
       "{False: 8291, True: 199, nan: 203}"
      ]
     },
     "execution_count": 116,
     "metadata": {},
     "output_type": "execute_result"
    }
   ],
   "source": [
    "get_frequency_map(data['VIP'])"
   ]
  },
  {
   "cell_type": "code",
   "execution_count": 129,
   "metadata": {},
   "outputs": [
    {
     "data": {
      "image/png": "[encoded data removed]",
      "text/plain": [
       "<Figure size 640x480 with 1 Axes>"
      ]
     },
     "metadata": {},
     "output_type": "display_data"
    },
    {
     "data": {
      "text/plain": [
       "(np.float64(21.357431970648104), np.float64(-0.333085499564472))"
      ]
     },
     "execution_count": 129,
     "metadata": {},
     "output_type": "execute_result"
    }
   ],
   "source": [
    "squashed_down_room_service = squash_down_feature(data['RoomService'].replace(np.nan, 0.0))\n",
    "visualize_feature(squashed_down_room_service)\n",
    "max(squashed_down_room_service), min(squashed_down_room_service)"
   ]
  }
 ],
 "metadata": {
  "kernelspec": {
   "display_name": "saurav-env",
   "language": "python",
   "name": "python3"
  },
  "language_info": {
   "codemirror_mode": {
    "name": "ipython",
    "version": 3
   },
   "file_extension": ".py",
   "mimetype": "text/x-python",
   "name": "python",
   "nbconvert_exporter": "python",
   "pygments_lexer": "ipython3",
   "version": "3.13.1"
  }
 },
 "nbformat": 4,
 "nbformat_minor": 2
}
